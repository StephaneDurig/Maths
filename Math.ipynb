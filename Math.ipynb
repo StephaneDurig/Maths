{
 "cells": [
  {
   "cell_type": "code",
   "execution_count": null,
   "metadata": {},
   "outputs": [],
   "source": [
    "class Math():\n",
    "    def square(self,number):\n",
    "        print(f'the square root of {number} is {number**0.5}')\n",
    "    \n",
    "    def average(self,liste):\n",
    "        \n",
    "        total=0\n",
    "        count=0\n",
    "        \n",
    "        for number in liste:\n",
    "            total += number\n",
    "            count += 1\n",
    "        \n",
    "        print(f'the average of {liste} is {total/count}')\n",
    "\n",
    "    def odd_even(self,number):       #   odd=paire   even=impair\n",
    "        if number%2==0 :\n",
    "            print(f'{number} is odd.')\n",
    "        else :\n",
    "            print(f'{number} is even.')\n",
    "\n",
    "    def sum(self,liste):\n",
    "        total=0\n",
    "        for number in liste:\n",
    "            total += number\n",
    "        print(f'the sum of {liste} est {total}')\n",
    "\n"
   ]
  }
 ],
 "metadata": {
  "language_info": {
   "name": "python"
  },
  "orig_nbformat": 4
 },
 "nbformat": 4,
 "nbformat_minor": 2
}
